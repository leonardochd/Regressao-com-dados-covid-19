{
  "nbformat": 4,
  "nbformat_minor": 0,
  "metadata": {
    "colab": {
      "provenance": [],
      "authorship_tag": "ABX9TyMybA5nua2zEd/F8a//VTtQ",
      "include_colab_link": true
    },
    "kernelspec": {
      "name": "python3",
      "display_name": "Python 3"
    },
    "language_info": {
      "name": "python"
    },
    "gpuClass": "standard"
  },
  "cells": [
    {
      "cell_type": "markdown",
      "metadata": {
        "id": "view-in-github",
        "colab_type": "text"
      },
      "source": [
        "<a href=\"https://colab.research.google.com/github/leonardochd/Regressao-com-dados-covid-19/blob/main/Regress%C3%A3o_com_os_Dados_sobre_a_COVID_19.ipynb\" target=\"_parent\"><img src=\"https://colab.research.google.com/assets/colab-badge.svg\" alt=\"Open In Colab\"/></a>"
      ]
    },
    {
      "cell_type": "markdown",
      "source": [
        "#Notebook de ensaios do teste de regressão com os dados da COVID-19\n",
        "> Autor:\n",
        "  - Leonardo Cherobim Dutra\n",
        "\n",
        "\n",
        "\n",
        "> Se baseando nos seguintes códigos para referência:\n",
        "  - https://colab.research.google.com/drive/1t7mLU--uXw7dmiTjJ9PecFStRENZdlk3#scrollTo=Q0lPRSSXnfu0\n",
        "  - https://colab.research.google.com/drive/1eF-StolsVpddEysPMZQsfH1AMzyuGBN-#scrollTo=yXfHVZJiyGWs\n",
        "  - https://colab.research.google.com/drive/1UWYqcdPSon5zSgZ0nDowp_a9X4AYNBVb#scrollTo=BLsUP4j9R3lR"
      ],
      "metadata": {
        "id": "J8LocdWiyQlV"
      }
    },
    {
      "cell_type": "markdown",
      "source": [
        "##Dados\n"
      ],
      "metadata": {
        "id": "HKObyxL_yZU3"
      }
    },
    {
      "cell_type": "markdown",
      "source": [
        "###Importação das bibliotecas dependentes"
      ],
      "metadata": {
        "id": "6t_x3sa9y1JL"
      }
    },
    {
      "cell_type": "code",
      "execution_count": 1,
      "metadata": {
        "id": "lmCH7g_OyGg0"
      },
      "outputs": [],
      "source": [
        "import pandas as pd\n",
        "import numpy as np\n",
        "from urllib.request import urlretrieve\n",
        "import matplotlib.colors as mcolors\n",
        "import matplotlib.pyplot as plt\n",
        "import random\n",
        "import math\n",
        "import time\n",
        "import datetime\n",
        "import operator\n",
        "plt.style.use('seaborn-poster')\n",
        "%matplotlib inline\n",
        "\n",
        "from IPython.display import set_matplotlib_formats\n",
        "set_matplotlib_formats('retina')\n",
        "import warnings\n",
        "warnings.filterwarnings(\"ignore\")\n",
        "\n"
      ]
    },
    {
      "cell_type": "markdown",
      "source": [
        "###Aquisição dos dados"
      ],
      "metadata": {
        "id": "cWjz-ushzMVq"
      }
    },
    {
      "cell_type": "code",
      "source": [
        "confirmados_df = pd.read_csv('https://raw.githubusercontent.com/CSSEGISandData/COVID-19/master/csse_covid_19_data/csse_covid_19_time_series/time_series_covid19_confirmed_global.csv')\n",
        "mortes_df = pd.read_csv('https://raw.githubusercontent.com/CSSEGISandData/COVID-19/master/csse_covid_19_data/csse_covid_19_time_series/time_series_covid19_deaths_global.csv')\n",
        "ultimos_df = pd.read_csv('https://raw.githubusercontent.com/CSSEGISandData/COVID-19/master/csse_covid_19_data/csse_covid_19_daily_reports/01-01-2023.csv')"
      ],
      "metadata": {
        "id": "D1DESCAFzXJS"
      },
      "execution_count": 2,
      "outputs": []
    },
    {
      "cell_type": "markdown",
      "source": [
        "####Verificando os primeiros valores e os indices"
      ],
      "metadata": {
        "id": "7nqPk29K7KYA"
      }
    },
    {
      "cell_type": "code",
      "source": [
        "confirmados_df.head()"
      ],
      "metadata": {
        "colab": {
          "base_uri": "https://localhost:8080/",
          "height": 236
        },
        "id": "P6ynHuua6bfm",
        "outputId": "0c164afd-57a4-4fa9-82d2-675916bb3d4b"
      },
      "execution_count": 3,
      "outputs": [
        {
          "output_type": "execute_result",
          "data": {
            "text/plain": [
              "  Province/State Country/Region       Lat       Long  1/22/20  1/23/20  \\\n",
              "0            NaN    Afghanistan  33.93911  67.709953        0        0   \n",
              "1            NaN        Albania  41.15330  20.168300        0        0   \n",
              "2            NaN        Algeria  28.03390   1.659600        0        0   \n",
              "3            NaN        Andorra  42.50630   1.521800        0        0   \n",
              "4            NaN         Angola -11.20270  17.873900        0        0   \n",
              "\n",
              "   1/24/20  1/25/20  1/26/20  1/27/20  ...  12/24/22  12/25/22  12/26/22  \\\n",
              "0        0        0        0        0  ...    207310    207399    207438   \n",
              "1        0        0        0        0  ...    333749    333749    333751   \n",
              "2        0        0        0        0  ...    271194    271198    271198   \n",
              "3        0        0        0        0  ...     47686     47686     47686   \n",
              "4        0        0        0        0  ...    104973    104973    104973   \n",
              "\n",
              "   12/27/22  12/28/22  12/29/22  12/30/22  12/31/22  1/1/23  1/2/23  \n",
              "0    207460    207493    207511    207550    207559  207616  207627  \n",
              "1    333751    333776    333776    333806    333806  333811  333812  \n",
              "2    271202    271208    271217    271223    271228  271229  271229  \n",
              "3     47686     47751     47751     47751     47751   47751   47751  \n",
              "4    105095    105095    105095    105095    105095  105095  105095  \n",
              "\n",
              "[5 rows x 1081 columns]"
            ],
            "text/html": [
              "\n",
              "  <div id=\"df-f278bee8-d141-4b01-b035-424b6c133710\">\n",
              "    <div class=\"colab-df-container\">\n",
              "      <div>\n",
              "<style scoped>\n",
              "    .dataframe tbody tr th:only-of-type {\n",
              "        vertical-align: middle;\n",
              "    }\n",
              "\n",
              "    .dataframe tbody tr th {\n",
              "        vertical-align: top;\n",
              "    }\n",
              "\n",
              "    .dataframe thead th {\n",
              "        text-align: right;\n",
              "    }\n",
              "</style>\n",
              "<table border=\"1\" class=\"dataframe\">\n",
              "  <thead>\n",
              "    <tr style=\"text-align: right;\">\n",
              "      <th></th>\n",
              "      <th>Province/State</th>\n",
              "      <th>Country/Region</th>\n",
              "      <th>Lat</th>\n",
              "      <th>Long</th>\n",
              "      <th>1/22/20</th>\n",
              "      <th>1/23/20</th>\n",
              "      <th>1/24/20</th>\n",
              "      <th>1/25/20</th>\n",
              "      <th>1/26/20</th>\n",
              "      <th>1/27/20</th>\n",
              "      <th>...</th>\n",
              "      <th>12/24/22</th>\n",
              "      <th>12/25/22</th>\n",
              "      <th>12/26/22</th>\n",
              "      <th>12/27/22</th>\n",
              "      <th>12/28/22</th>\n",
              "      <th>12/29/22</th>\n",
              "      <th>12/30/22</th>\n",
              "      <th>12/31/22</th>\n",
              "      <th>1/1/23</th>\n",
              "      <th>1/2/23</th>\n",
              "    </tr>\n",
              "  </thead>\n",
              "  <tbody>\n",
              "    <tr>\n",
              "      <th>0</th>\n",
              "      <td>NaN</td>\n",
              "      <td>Afghanistan</td>\n",
              "      <td>33.93911</td>\n",
              "      <td>67.709953</td>\n",
              "      <td>0</td>\n",
              "      <td>0</td>\n",
              "      <td>0</td>\n",
              "      <td>0</td>\n",
              "      <td>0</td>\n",
              "      <td>0</td>\n",
              "      <td>...</td>\n",
              "      <td>207310</td>\n",
              "      <td>207399</td>\n",
              "      <td>207438</td>\n",
              "      <td>207460</td>\n",
              "      <td>207493</td>\n",
              "      <td>207511</td>\n",
              "      <td>207550</td>\n",
              "      <td>207559</td>\n",
              "      <td>207616</td>\n",
              "      <td>207627</td>\n",
              "    </tr>\n",
              "    <tr>\n",
              "      <th>1</th>\n",
              "      <td>NaN</td>\n",
              "      <td>Albania</td>\n",
              "      <td>41.15330</td>\n",
              "      <td>20.168300</td>\n",
              "      <td>0</td>\n",
              "      <td>0</td>\n",
              "      <td>0</td>\n",
              "      <td>0</td>\n",
              "      <td>0</td>\n",
              "      <td>0</td>\n",
              "      <td>...</td>\n",
              "      <td>333749</td>\n",
              "      <td>333749</td>\n",
              "      <td>333751</td>\n",
              "      <td>333751</td>\n",
              "      <td>333776</td>\n",
              "      <td>333776</td>\n",
              "      <td>333806</td>\n",
              "      <td>333806</td>\n",
              "      <td>333811</td>\n",
              "      <td>333812</td>\n",
              "    </tr>\n",
              "    <tr>\n",
              "      <th>2</th>\n",
              "      <td>NaN</td>\n",
              "      <td>Algeria</td>\n",
              "      <td>28.03390</td>\n",
              "      <td>1.659600</td>\n",
              "      <td>0</td>\n",
              "      <td>0</td>\n",
              "      <td>0</td>\n",
              "      <td>0</td>\n",
              "      <td>0</td>\n",
              "      <td>0</td>\n",
              "      <td>...</td>\n",
              "      <td>271194</td>\n",
              "      <td>271198</td>\n",
              "      <td>271198</td>\n",
              "      <td>271202</td>\n",
              "      <td>271208</td>\n",
              "      <td>271217</td>\n",
              "      <td>271223</td>\n",
              "      <td>271228</td>\n",
              "      <td>271229</td>\n",
              "      <td>271229</td>\n",
              "    </tr>\n",
              "    <tr>\n",
              "      <th>3</th>\n",
              "      <td>NaN</td>\n",
              "      <td>Andorra</td>\n",
              "      <td>42.50630</td>\n",
              "      <td>1.521800</td>\n",
              "      <td>0</td>\n",
              "      <td>0</td>\n",
              "      <td>0</td>\n",
              "      <td>0</td>\n",
              "      <td>0</td>\n",
              "      <td>0</td>\n",
              "      <td>...</td>\n",
              "      <td>47686</td>\n",
              "      <td>47686</td>\n",
              "      <td>47686</td>\n",
              "      <td>47686</td>\n",
              "      <td>47751</td>\n",
              "      <td>47751</td>\n",
              "      <td>47751</td>\n",
              "      <td>47751</td>\n",
              "      <td>47751</td>\n",
              "      <td>47751</td>\n",
              "    </tr>\n",
              "    <tr>\n",
              "      <th>4</th>\n",
              "      <td>NaN</td>\n",
              "      <td>Angola</td>\n",
              "      <td>-11.20270</td>\n",
              "      <td>17.873900</td>\n",
              "      <td>0</td>\n",
              "      <td>0</td>\n",
              "      <td>0</td>\n",
              "      <td>0</td>\n",
              "      <td>0</td>\n",
              "      <td>0</td>\n",
              "      <td>...</td>\n",
              "      <td>104973</td>\n",
              "      <td>104973</td>\n",
              "      <td>104973</td>\n",
              "      <td>105095</td>\n",
              "      <td>105095</td>\n",
              "      <td>105095</td>\n",
              "      <td>105095</td>\n",
              "      <td>105095</td>\n",
              "      <td>105095</td>\n",
              "      <td>105095</td>\n",
              "    </tr>\n",
              "  </tbody>\n",
              "</table>\n",
              "<p>5 rows × 1081 columns</p>\n",
              "</div>\n",
              "      <button class=\"colab-df-convert\" onclick=\"convertToInteractive('df-f278bee8-d141-4b01-b035-424b6c133710')\"\n",
              "              title=\"Convert this dataframe to an interactive table.\"\n",
              "              style=\"display:none;\">\n",
              "        \n",
              "  <svg xmlns=\"http://www.w3.org/2000/svg\" height=\"24px\"viewBox=\"0 0 24 24\"\n",
              "       width=\"24px\">\n",
              "    <path d=\"M0 0h24v24H0V0z\" fill=\"none\"/>\n",
              "    <path d=\"M18.56 5.44l.94 2.06.94-2.06 2.06-.94-2.06-.94-.94-2.06-.94 2.06-2.06.94zm-11 1L8.5 8.5l.94-2.06 2.06-.94-2.06-.94L8.5 2.5l-.94 2.06-2.06.94zm10 10l.94 2.06.94-2.06 2.06-.94-2.06-.94-.94-2.06-.94 2.06-2.06.94z\"/><path d=\"M17.41 7.96l-1.37-1.37c-.4-.4-.92-.59-1.43-.59-.52 0-1.04.2-1.43.59L10.3 9.45l-7.72 7.72c-.78.78-.78 2.05 0 2.83L4 21.41c.39.39.9.59 1.41.59.51 0 1.02-.2 1.41-.59l7.78-7.78 2.81-2.81c.8-.78.8-2.07 0-2.86zM5.41 20L4 18.59l7.72-7.72 1.47 1.35L5.41 20z\"/>\n",
              "  </svg>\n",
              "      </button>\n",
              "      \n",
              "  <style>\n",
              "    .colab-df-container {\n",
              "      display:flex;\n",
              "      flex-wrap:wrap;\n",
              "      gap: 12px;\n",
              "    }\n",
              "\n",
              "    .colab-df-convert {\n",
              "      background-color: #E8F0FE;\n",
              "      border: none;\n",
              "      border-radius: 50%;\n",
              "      cursor: pointer;\n",
              "      display: none;\n",
              "      fill: #1967D2;\n",
              "      height: 32px;\n",
              "      padding: 0 0 0 0;\n",
              "      width: 32px;\n",
              "    }\n",
              "\n",
              "    .colab-df-convert:hover {\n",
              "      background-color: #E2EBFA;\n",
              "      box-shadow: 0px 1px 2px rgba(60, 64, 67, 0.3), 0px 1px 3px 1px rgba(60, 64, 67, 0.15);\n",
              "      fill: #174EA6;\n",
              "    }\n",
              "\n",
              "    [theme=dark] .colab-df-convert {\n",
              "      background-color: #3B4455;\n",
              "      fill: #D2E3FC;\n",
              "    }\n",
              "\n",
              "    [theme=dark] .colab-df-convert:hover {\n",
              "      background-color: #434B5C;\n",
              "      box-shadow: 0px 1px 3px 1px rgba(0, 0, 0, 0.15);\n",
              "      filter: drop-shadow(0px 1px 2px rgba(0, 0, 0, 0.3));\n",
              "      fill: #FFFFFF;\n",
              "    }\n",
              "  </style>\n",
              "\n",
              "      <script>\n",
              "        const buttonEl =\n",
              "          document.querySelector('#df-f278bee8-d141-4b01-b035-424b6c133710 button.colab-df-convert');\n",
              "        buttonEl.style.display =\n",
              "          google.colab.kernel.accessAllowed ? 'block' : 'none';\n",
              "\n",
              "        async function convertToInteractive(key) {\n",
              "          const element = document.querySelector('#df-f278bee8-d141-4b01-b035-424b6c133710');\n",
              "          const dataTable =\n",
              "            await google.colab.kernel.invokeFunction('convertToInteractive',\n",
              "                                                     [key], {});\n",
              "          if (!dataTable) return;\n",
              "\n",
              "          const docLinkHtml = 'Like what you see? Visit the ' +\n",
              "            '<a target=\"_blank\" href=https://colab.research.google.com/notebooks/data_table.ipynb>data table notebook</a>'\n",
              "            + ' to learn more about interactive tables.';\n",
              "          element.innerHTML = '';\n",
              "          dataTable['output_type'] = 'display_data';\n",
              "          await google.colab.output.renderOutput(dataTable, element);\n",
              "          const docLink = document.createElement('div');\n",
              "          docLink.innerHTML = docLinkHtml;\n",
              "          element.appendChild(docLink);\n",
              "        }\n",
              "      </script>\n",
              "    </div>\n",
              "  </div>\n",
              "  "
            ]
          },
          "metadata": {},
          "execution_count": 3
        }
      ]
    },
    {
      "cell_type": "code",
      "source": [
        "mortes_df.head()"
      ],
      "metadata": {
        "colab": {
          "base_uri": "https://localhost:8080/",
          "height": 236
        },
        "id": "tDKuthaf6bzW",
        "outputId": "e638e215-f27e-4710-e95b-cbd34f53e02b"
      },
      "execution_count": 4,
      "outputs": [
        {
          "output_type": "execute_result",
          "data": {
            "text/plain": [
              "  Province/State Country/Region       Lat       Long  1/22/20  1/23/20  \\\n",
              "0            NaN    Afghanistan  33.93911  67.709953        0        0   \n",
              "1            NaN        Albania  41.15330  20.168300        0        0   \n",
              "2            NaN        Algeria  28.03390   1.659600        0        0   \n",
              "3            NaN        Andorra  42.50630   1.521800        0        0   \n",
              "4            NaN         Angola -11.20270  17.873900        0        0   \n",
              "\n",
              "   1/24/20  1/25/20  1/26/20  1/27/20  ...  12/24/22  12/25/22  12/26/22  \\\n",
              "0        0        0        0        0  ...      7845      7846      7846   \n",
              "1        0        0        0        0  ...      3595      3595      3595   \n",
              "2        0        0        0        0  ...      6881      6881      6881   \n",
              "3        0        0        0        0  ...       165       165       165   \n",
              "4        0        0        0        0  ...      1928      1928      1928   \n",
              "\n",
              "   12/27/22  12/28/22  12/29/22  12/30/22  12/31/22  1/1/23  1/2/23  \n",
              "0      7846      7846      7847      7847      7849    7849    7849  \n",
              "1      3595      3595      3595      3595      3595    3595    3595  \n",
              "2      6881      6881      6881      6881      6881    6881    6881  \n",
              "3       165       165       165       165       165     165     165  \n",
              "4      1930      1930      1930      1930      1930    1930    1930  \n",
              "\n",
              "[5 rows x 1081 columns]"
            ],
            "text/html": [
              "\n",
              "  <div id=\"df-05cb7a43-b867-416e-bfe6-b46eade3fbbd\">\n",
              "    <div class=\"colab-df-container\">\n",
              "      <div>\n",
              "<style scoped>\n",
              "    .dataframe tbody tr th:only-of-type {\n",
              "        vertical-align: middle;\n",
              "    }\n",
              "\n",
              "    .dataframe tbody tr th {\n",
              "        vertical-align: top;\n",
              "    }\n",
              "\n",
              "    .dataframe thead th {\n",
              "        text-align: right;\n",
              "    }\n",
              "</style>\n",
              "<table border=\"1\" class=\"dataframe\">\n",
              "  <thead>\n",
              "    <tr style=\"text-align: right;\">\n",
              "      <th></th>\n",
              "      <th>Province/State</th>\n",
              "      <th>Country/Region</th>\n",
              "      <th>Lat</th>\n",
              "      <th>Long</th>\n",
              "      <th>1/22/20</th>\n",
              "      <th>1/23/20</th>\n",
              "      <th>1/24/20</th>\n",
              "      <th>1/25/20</th>\n",
              "      <th>1/26/20</th>\n",
              "      <th>1/27/20</th>\n",
              "      <th>...</th>\n",
              "      <th>12/24/22</th>\n",
              "      <th>12/25/22</th>\n",
              "      <th>12/26/22</th>\n",
              "      <th>12/27/22</th>\n",
              "      <th>12/28/22</th>\n",
              "      <th>12/29/22</th>\n",
              "      <th>12/30/22</th>\n",
              "      <th>12/31/22</th>\n",
              "      <th>1/1/23</th>\n",
              "      <th>1/2/23</th>\n",
              "    </tr>\n",
              "  </thead>\n",
              "  <tbody>\n",
              "    <tr>\n",
              "      <th>0</th>\n",
              "      <td>NaN</td>\n",
              "      <td>Afghanistan</td>\n",
              "      <td>33.93911</td>\n",
              "      <td>67.709953</td>\n",
              "      <td>0</td>\n",
              "      <td>0</td>\n",
              "      <td>0</td>\n",
              "      <td>0</td>\n",
              "      <td>0</td>\n",
              "      <td>0</td>\n",
              "      <td>...</td>\n",
              "      <td>7845</td>\n",
              "      <td>7846</td>\n",
              "      <td>7846</td>\n",
              "      <td>7846</td>\n",
              "      <td>7846</td>\n",
              "      <td>7847</td>\n",
              "      <td>7847</td>\n",
              "      <td>7849</td>\n",
              "      <td>7849</td>\n",
              "      <td>7849</td>\n",
              "    </tr>\n",
              "    <tr>\n",
              "      <th>1</th>\n",
              "      <td>NaN</td>\n",
              "      <td>Albania</td>\n",
              "      <td>41.15330</td>\n",
              "      <td>20.168300</td>\n",
              "      <td>0</td>\n",
              "      <td>0</td>\n",
              "      <td>0</td>\n",
              "      <td>0</td>\n",
              "      <td>0</td>\n",
              "      <td>0</td>\n",
              "      <td>...</td>\n",
              "      <td>3595</td>\n",
              "      <td>3595</td>\n",
              "      <td>3595</td>\n",
              "      <td>3595</td>\n",
              "      <td>3595</td>\n",
              "      <td>3595</td>\n",
              "      <td>3595</td>\n",
              "      <td>3595</td>\n",
              "      <td>3595</td>\n",
              "      <td>3595</td>\n",
              "    </tr>\n",
              "    <tr>\n",
              "      <th>2</th>\n",
              "      <td>NaN</td>\n",
              "      <td>Algeria</td>\n",
              "      <td>28.03390</td>\n",
              "      <td>1.659600</td>\n",
              "      <td>0</td>\n",
              "      <td>0</td>\n",
              "      <td>0</td>\n",
              "      <td>0</td>\n",
              "      <td>0</td>\n",
              "      <td>0</td>\n",
              "      <td>...</td>\n",
              "      <td>6881</td>\n",
              "      <td>6881</td>\n",
              "      <td>6881</td>\n",
              "      <td>6881</td>\n",
              "      <td>6881</td>\n",
              "      <td>6881</td>\n",
              "      <td>6881</td>\n",
              "      <td>6881</td>\n",
              "      <td>6881</td>\n",
              "      <td>6881</td>\n",
              "    </tr>\n",
              "    <tr>\n",
              "      <th>3</th>\n",
              "      <td>NaN</td>\n",
              "      <td>Andorra</td>\n",
              "      <td>42.50630</td>\n",
              "      <td>1.521800</td>\n",
              "      <td>0</td>\n",
              "      <td>0</td>\n",
              "      <td>0</td>\n",
              "      <td>0</td>\n",
              "      <td>0</td>\n",
              "      <td>0</td>\n",
              "      <td>...</td>\n",
              "      <td>165</td>\n",
              "      <td>165</td>\n",
              "      <td>165</td>\n",
              "      <td>165</td>\n",
              "      <td>165</td>\n",
              "      <td>165</td>\n",
              "      <td>165</td>\n",
              "      <td>165</td>\n",
              "      <td>165</td>\n",
              "      <td>165</td>\n",
              "    </tr>\n",
              "    <tr>\n",
              "      <th>4</th>\n",
              "      <td>NaN</td>\n",
              "      <td>Angola</td>\n",
              "      <td>-11.20270</td>\n",
              "      <td>17.873900</td>\n",
              "      <td>0</td>\n",
              "      <td>0</td>\n",
              "      <td>0</td>\n",
              "      <td>0</td>\n",
              "      <td>0</td>\n",
              "      <td>0</td>\n",
              "      <td>...</td>\n",
              "      <td>1928</td>\n",
              "      <td>1928</td>\n",
              "      <td>1928</td>\n",
              "      <td>1930</td>\n",
              "      <td>1930</td>\n",
              "      <td>1930</td>\n",
              "      <td>1930</td>\n",
              "      <td>1930</td>\n",
              "      <td>1930</td>\n",
              "      <td>1930</td>\n",
              "    </tr>\n",
              "  </tbody>\n",
              "</table>\n",
              "<p>5 rows × 1081 columns</p>\n",
              "</div>\n",
              "      <button class=\"colab-df-convert\" onclick=\"convertToInteractive('df-05cb7a43-b867-416e-bfe6-b46eade3fbbd')\"\n",
              "              title=\"Convert this dataframe to an interactive table.\"\n",
              "              style=\"display:none;\">\n",
              "        \n",
              "  <svg xmlns=\"http://www.w3.org/2000/svg\" height=\"24px\"viewBox=\"0 0 24 24\"\n",
              "       width=\"24px\">\n",
              "    <path d=\"M0 0h24v24H0V0z\" fill=\"none\"/>\n",
              "    <path d=\"M18.56 5.44l.94 2.06.94-2.06 2.06-.94-2.06-.94-.94-2.06-.94 2.06-2.06.94zm-11 1L8.5 8.5l.94-2.06 2.06-.94-2.06-.94L8.5 2.5l-.94 2.06-2.06.94zm10 10l.94 2.06.94-2.06 2.06-.94-2.06-.94-.94-2.06-.94 2.06-2.06.94z\"/><path d=\"M17.41 7.96l-1.37-1.37c-.4-.4-.92-.59-1.43-.59-.52 0-1.04.2-1.43.59L10.3 9.45l-7.72 7.72c-.78.78-.78 2.05 0 2.83L4 21.41c.39.39.9.59 1.41.59.51 0 1.02-.2 1.41-.59l7.78-7.78 2.81-2.81c.8-.78.8-2.07 0-2.86zM5.41 20L4 18.59l7.72-7.72 1.47 1.35L5.41 20z\"/>\n",
              "  </svg>\n",
              "      </button>\n",
              "      \n",
              "  <style>\n",
              "    .colab-df-container {\n",
              "      display:flex;\n",
              "      flex-wrap:wrap;\n",
              "      gap: 12px;\n",
              "    }\n",
              "\n",
              "    .colab-df-convert {\n",
              "      background-color: #E8F0FE;\n",
              "      border: none;\n",
              "      border-radius: 50%;\n",
              "      cursor: pointer;\n",
              "      display: none;\n",
              "      fill: #1967D2;\n",
              "      height: 32px;\n",
              "      padding: 0 0 0 0;\n",
              "      width: 32px;\n",
              "    }\n",
              "\n",
              "    .colab-df-convert:hover {\n",
              "      background-color: #E2EBFA;\n",
              "      box-shadow: 0px 1px 2px rgba(60, 64, 67, 0.3), 0px 1px 3px 1px rgba(60, 64, 67, 0.15);\n",
              "      fill: #174EA6;\n",
              "    }\n",
              "\n",
              "    [theme=dark] .colab-df-convert {\n",
              "      background-color: #3B4455;\n",
              "      fill: #D2E3FC;\n",
              "    }\n",
              "\n",
              "    [theme=dark] .colab-df-convert:hover {\n",
              "      background-color: #434B5C;\n",
              "      box-shadow: 0px 1px 3px 1px rgba(0, 0, 0, 0.15);\n",
              "      filter: drop-shadow(0px 1px 2px rgba(0, 0, 0, 0.3));\n",
              "      fill: #FFFFFF;\n",
              "    }\n",
              "  </style>\n",
              "\n",
              "      <script>\n",
              "        const buttonEl =\n",
              "          document.querySelector('#df-05cb7a43-b867-416e-bfe6-b46eade3fbbd button.colab-df-convert');\n",
              "        buttonEl.style.display =\n",
              "          google.colab.kernel.accessAllowed ? 'block' : 'none';\n",
              "\n",
              "        async function convertToInteractive(key) {\n",
              "          const element = document.querySelector('#df-05cb7a43-b867-416e-bfe6-b46eade3fbbd');\n",
              "          const dataTable =\n",
              "            await google.colab.kernel.invokeFunction('convertToInteractive',\n",
              "                                                     [key], {});\n",
              "          if (!dataTable) return;\n",
              "\n",
              "          const docLinkHtml = 'Like what you see? Visit the ' +\n",
              "            '<a target=\"_blank\" href=https://colab.research.google.com/notebooks/data_table.ipynb>data table notebook</a>'\n",
              "            + ' to learn more about interactive tables.';\n",
              "          element.innerHTML = '';\n",
              "          dataTable['output_type'] = 'display_data';\n",
              "          await google.colab.output.renderOutput(dataTable, element);\n",
              "          const docLink = document.createElement('div');\n",
              "          docLink.innerHTML = docLinkHtml;\n",
              "          element.appendChild(docLink);\n",
              "        }\n",
              "      </script>\n",
              "    </div>\n",
              "  </div>\n",
              "  "
            ]
          },
          "metadata": {},
          "execution_count": 4
        }
      ]
    },
    {
      "cell_type": "code",
      "source": [
        "ultimos_df.head()"
      ],
      "metadata": {
        "colab": {
          "base_uri": "https://localhost:8080/",
          "height": 206
        },
        "id": "xVlS-0DS6cCm",
        "outputId": "4e8f3f1c-bb75-4539-9576-b2b756d920e4"
      },
      "execution_count": 5,
      "outputs": [
        {
          "output_type": "execute_result",
          "data": {
            "text/plain": [
              "   FIPS Admin2 Province_State Country_Region          Last_Update       Lat  \\\n",
              "0   NaN    NaN            NaN    Afghanistan  2023-01-02 04:20:57  33.93911   \n",
              "1   NaN    NaN            NaN        Albania  2023-01-02 04:20:57  41.15330   \n",
              "2   NaN    NaN            NaN        Algeria  2023-01-02 04:20:57  28.03390   \n",
              "3   NaN    NaN            NaN        Andorra  2023-01-02 04:20:57  42.50630   \n",
              "4   NaN    NaN            NaN         Angola  2023-01-02 04:20:57 -11.20270   \n",
              "\n",
              "       Long_  Confirmed  Deaths  Recovered  Active Combined_Key  \\\n",
              "0  67.709953     207616    7849        NaN     NaN  Afghanistan   \n",
              "1  20.168300     333811    3595        NaN     NaN      Albania   \n",
              "2   1.659600     271229    6881        NaN     NaN      Algeria   \n",
              "3   1.521800      47751     165        NaN     NaN      Andorra   \n",
              "4  17.873900     105095    1930        NaN     NaN       Angola   \n",
              "\n",
              "   Incident_Rate  Case_Fatality_Ratio  \n",
              "0     533.328662             3.780537  \n",
              "1   11599.520467             1.076957  \n",
              "2     618.523486             2.536971  \n",
              "3   61801.591924             0.345543  \n",
              "4     319.765542             1.836434  "
            ],
            "text/html": [
              "\n",
              "  <div id=\"df-16ee36a7-c0ea-44ce-a1a7-b22661169cbb\">\n",
              "    <div class=\"colab-df-container\">\n",
              "      <div>\n",
              "<style scoped>\n",
              "    .dataframe tbody tr th:only-of-type {\n",
              "        vertical-align: middle;\n",
              "    }\n",
              "\n",
              "    .dataframe tbody tr th {\n",
              "        vertical-align: top;\n",
              "    }\n",
              "\n",
              "    .dataframe thead th {\n",
              "        text-align: right;\n",
              "    }\n",
              "</style>\n",
              "<table border=\"1\" class=\"dataframe\">\n",
              "  <thead>\n",
              "    <tr style=\"text-align: right;\">\n",
              "      <th></th>\n",
              "      <th>FIPS</th>\n",
              "      <th>Admin2</th>\n",
              "      <th>Province_State</th>\n",
              "      <th>Country_Region</th>\n",
              "      <th>Last_Update</th>\n",
              "      <th>Lat</th>\n",
              "      <th>Long_</th>\n",
              "      <th>Confirmed</th>\n",
              "      <th>Deaths</th>\n",
              "      <th>Recovered</th>\n",
              "      <th>Active</th>\n",
              "      <th>Combined_Key</th>\n",
              "      <th>Incident_Rate</th>\n",
              "      <th>Case_Fatality_Ratio</th>\n",
              "    </tr>\n",
              "  </thead>\n",
              "  <tbody>\n",
              "    <tr>\n",
              "      <th>0</th>\n",
              "      <td>NaN</td>\n",
              "      <td>NaN</td>\n",
              "      <td>NaN</td>\n",
              "      <td>Afghanistan</td>\n",
              "      <td>2023-01-02 04:20:57</td>\n",
              "      <td>33.93911</td>\n",
              "      <td>67.709953</td>\n",
              "      <td>207616</td>\n",
              "      <td>7849</td>\n",
              "      <td>NaN</td>\n",
              "      <td>NaN</td>\n",
              "      <td>Afghanistan</td>\n",
              "      <td>533.328662</td>\n",
              "      <td>3.780537</td>\n",
              "    </tr>\n",
              "    <tr>\n",
              "      <th>1</th>\n",
              "      <td>NaN</td>\n",
              "      <td>NaN</td>\n",
              "      <td>NaN</td>\n",
              "      <td>Albania</td>\n",
              "      <td>2023-01-02 04:20:57</td>\n",
              "      <td>41.15330</td>\n",
              "      <td>20.168300</td>\n",
              "      <td>333811</td>\n",
              "      <td>3595</td>\n",
              "      <td>NaN</td>\n",
              "      <td>NaN</td>\n",
              "      <td>Albania</td>\n",
              "      <td>11599.520467</td>\n",
              "      <td>1.076957</td>\n",
              "    </tr>\n",
              "    <tr>\n",
              "      <th>2</th>\n",
              "      <td>NaN</td>\n",
              "      <td>NaN</td>\n",
              "      <td>NaN</td>\n",
              "      <td>Algeria</td>\n",
              "      <td>2023-01-02 04:20:57</td>\n",
              "      <td>28.03390</td>\n",
              "      <td>1.659600</td>\n",
              "      <td>271229</td>\n",
              "      <td>6881</td>\n",
              "      <td>NaN</td>\n",
              "      <td>NaN</td>\n",
              "      <td>Algeria</td>\n",
              "      <td>618.523486</td>\n",
              "      <td>2.536971</td>\n",
              "    </tr>\n",
              "    <tr>\n",
              "      <th>3</th>\n",
              "      <td>NaN</td>\n",
              "      <td>NaN</td>\n",
              "      <td>NaN</td>\n",
              "      <td>Andorra</td>\n",
              "      <td>2023-01-02 04:20:57</td>\n",
              "      <td>42.50630</td>\n",
              "      <td>1.521800</td>\n",
              "      <td>47751</td>\n",
              "      <td>165</td>\n",
              "      <td>NaN</td>\n",
              "      <td>NaN</td>\n",
              "      <td>Andorra</td>\n",
              "      <td>61801.591924</td>\n",
              "      <td>0.345543</td>\n",
              "    </tr>\n",
              "    <tr>\n",
              "      <th>4</th>\n",
              "      <td>NaN</td>\n",
              "      <td>NaN</td>\n",
              "      <td>NaN</td>\n",
              "      <td>Angola</td>\n",
              "      <td>2023-01-02 04:20:57</td>\n",
              "      <td>-11.20270</td>\n",
              "      <td>17.873900</td>\n",
              "      <td>105095</td>\n",
              "      <td>1930</td>\n",
              "      <td>NaN</td>\n",
              "      <td>NaN</td>\n",
              "      <td>Angola</td>\n",
              "      <td>319.765542</td>\n",
              "      <td>1.836434</td>\n",
              "    </tr>\n",
              "  </tbody>\n",
              "</table>\n",
              "</div>\n",
              "      <button class=\"colab-df-convert\" onclick=\"convertToInteractive('df-16ee36a7-c0ea-44ce-a1a7-b22661169cbb')\"\n",
              "              title=\"Convert this dataframe to an interactive table.\"\n",
              "              style=\"display:none;\">\n",
              "        \n",
              "  <svg xmlns=\"http://www.w3.org/2000/svg\" height=\"24px\"viewBox=\"0 0 24 24\"\n",
              "       width=\"24px\">\n",
              "    <path d=\"M0 0h24v24H0V0z\" fill=\"none\"/>\n",
              "    <path d=\"M18.56 5.44l.94 2.06.94-2.06 2.06-.94-2.06-.94-.94-2.06-.94 2.06-2.06.94zm-11 1L8.5 8.5l.94-2.06 2.06-.94-2.06-.94L8.5 2.5l-.94 2.06-2.06.94zm10 10l.94 2.06.94-2.06 2.06-.94-2.06-.94-.94-2.06-.94 2.06-2.06.94z\"/><path d=\"M17.41 7.96l-1.37-1.37c-.4-.4-.92-.59-1.43-.59-.52 0-1.04.2-1.43.59L10.3 9.45l-7.72 7.72c-.78.78-.78 2.05 0 2.83L4 21.41c.39.39.9.59 1.41.59.51 0 1.02-.2 1.41-.59l7.78-7.78 2.81-2.81c.8-.78.8-2.07 0-2.86zM5.41 20L4 18.59l7.72-7.72 1.47 1.35L5.41 20z\"/>\n",
              "  </svg>\n",
              "      </button>\n",
              "      \n",
              "  <style>\n",
              "    .colab-df-container {\n",
              "      display:flex;\n",
              "      flex-wrap:wrap;\n",
              "      gap: 12px;\n",
              "    }\n",
              "\n",
              "    .colab-df-convert {\n",
              "      background-color: #E8F0FE;\n",
              "      border: none;\n",
              "      border-radius: 50%;\n",
              "      cursor: pointer;\n",
              "      display: none;\n",
              "      fill: #1967D2;\n",
              "      height: 32px;\n",
              "      padding: 0 0 0 0;\n",
              "      width: 32px;\n",
              "    }\n",
              "\n",
              "    .colab-df-convert:hover {\n",
              "      background-color: #E2EBFA;\n",
              "      box-shadow: 0px 1px 2px rgba(60, 64, 67, 0.3), 0px 1px 3px 1px rgba(60, 64, 67, 0.15);\n",
              "      fill: #174EA6;\n",
              "    }\n",
              "\n",
              "    [theme=dark] .colab-df-convert {\n",
              "      background-color: #3B4455;\n",
              "      fill: #D2E3FC;\n",
              "    }\n",
              "\n",
              "    [theme=dark] .colab-df-convert:hover {\n",
              "      background-color: #434B5C;\n",
              "      box-shadow: 0px 1px 3px 1px rgba(0, 0, 0, 0.15);\n",
              "      filter: drop-shadow(0px 1px 2px rgba(0, 0, 0, 0.3));\n",
              "      fill: #FFFFFF;\n",
              "    }\n",
              "  </style>\n",
              "\n",
              "      <script>\n",
              "        const buttonEl =\n",
              "          document.querySelector('#df-16ee36a7-c0ea-44ce-a1a7-b22661169cbb button.colab-df-convert');\n",
              "        buttonEl.style.display =\n",
              "          google.colab.kernel.accessAllowed ? 'block' : 'none';\n",
              "\n",
              "        async function convertToInteractive(key) {\n",
              "          const element = document.querySelector('#df-16ee36a7-c0ea-44ce-a1a7-b22661169cbb');\n",
              "          const dataTable =\n",
              "            await google.colab.kernel.invokeFunction('convertToInteractive',\n",
              "                                                     [key], {});\n",
              "          if (!dataTable) return;\n",
              "\n",
              "          const docLinkHtml = 'Like what you see? Visit the ' +\n",
              "            '<a target=\"_blank\" href=https://colab.research.google.com/notebooks/data_table.ipynb>data table notebook</a>'\n",
              "            + ' to learn more about interactive tables.';\n",
              "          element.innerHTML = '';\n",
              "          dataTable['output_type'] = 'display_data';\n",
              "          await google.colab.output.renderOutput(dataTable, element);\n",
              "          const docLink = document.createElement('div');\n",
              "          docLink.innerHTML = docLinkHtml;\n",
              "          element.appendChild(docLink);\n",
              "        }\n",
              "      </script>\n",
              "    </div>\n",
              "  </div>\n",
              "  "
            ]
          },
          "metadata": {},
          "execution_count": 5
        }
      ]
    },
    {
      "cell_type": "markdown",
      "source": [
        "####Guardando as colunas dos confirmados e do nº de mortes"
      ],
      "metadata": {
        "id": "vRX3iyQmgGQi"
      }
    },
    {
      "cell_type": "code",
      "source": [
        "confirmados_cols = confirmados_df.keys()\n",
        "mortes_cols = mortes_df.keys()"
      ],
      "metadata": {
        "id": "wMc3gONEf7ba"
      },
      "execution_count": 6,
      "outputs": []
    },
    {
      "cell_type": "markdown",
      "source": [
        "Verificando os indices guardados"
      ],
      "metadata": {
        "id": "ApQFvoLvg5I0"
      }
    },
    {
      "cell_type": "code",
      "source": [
        "confirmados_cols"
      ],
      "metadata": {
        "colab": {
          "base_uri": "https://localhost:8080/"
        },
        "id": "g4Uy6TEnglR6",
        "outputId": "d35982d5-69e5-4e9f-a428-a0d0f6a9367b"
      },
      "execution_count": 7,
      "outputs": [
        {
          "output_type": "execute_result",
          "data": {
            "text/plain": [
              "Index(['Province/State', 'Country/Region', 'Lat', 'Long', '1/22/20', '1/23/20',\n",
              "       '1/24/20', '1/25/20', '1/26/20', '1/27/20',\n",
              "       ...\n",
              "       '12/24/22', '12/25/22', '12/26/22', '12/27/22', '12/28/22', '12/29/22',\n",
              "       '12/30/22', '12/31/22', '1/1/23', '1/2/23'],\n",
              "      dtype='object', length=1081)"
            ]
          },
          "metadata": {},
          "execution_count": 7
        }
      ]
    },
    {
      "cell_type": "markdown",
      "source": [
        "####Guardando apenas as datas dos confirmados e mortes"
      ],
      "metadata": {
        "id": "QUM7ut38hDCv"
      }
    },
    {
      "cell_type": "code",
      "source": [
        "confirmados = confirmados_df.loc[:, confirmados_cols[4]:]\n",
        "mortes = mortes_df.loc[:,mortes_cols[4]:]"
      ],
      "metadata": {
        "id": "kp7RuaXehJ2n"
      },
      "execution_count": 8,
      "outputs": []
    },
    {
      "cell_type": "markdown",
      "source": [
        "Verificando os indices"
      ],
      "metadata": {
        "id": "JzQfSJnMhpiW"
      }
    },
    {
      "cell_type": "code",
      "source": [
        "confirmados.keys()\n",
        "# confirmados"
      ],
      "metadata": {
        "colab": {
          "base_uri": "https://localhost:8080/"
        },
        "id": "JUl7n2GUhk63",
        "outputId": "4ca4f0ef-6990-4c5d-d938-d6d30a945cd9"
      },
      "execution_count": 9,
      "outputs": [
        {
          "output_type": "execute_result",
          "data": {
            "text/plain": [
              "Index(['1/22/20', '1/23/20', '1/24/20', '1/25/20', '1/26/20', '1/27/20',\n",
              "       '1/28/20', '1/29/20', '1/30/20', '1/31/20',\n",
              "       ...\n",
              "       '12/24/22', '12/25/22', '12/26/22', '12/27/22', '12/28/22', '12/29/22',\n",
              "       '12/30/22', '12/31/22', '1/1/23', '1/2/23'],\n",
              "      dtype='object', length=1077)"
            ]
          },
          "metadata": {},
          "execution_count": 9
        }
      ]
    },
    {
      "cell_type": "code",
      "source": [
        "num_datas = len(confirmados.keys())\n",
        "ck = confirmados.keys()\n",
        "dk = mortes.keys()\n",
        "\n",
        "mundo_casos = []\n",
        "total_mortes = []\n",
        "taxa_mortalidade = []\n",
        "\n",
        "for i in range(num_datas):\n",
        "  confirmados_sum = confirmados[ck[i]].sum()\n",
        "  mortes_sum = mortes[dk[i]].sum()\n",
        "\n",
        "  mundo_casos.append(confirmados_sum)\n",
        "  total_mortes.append(mortes_sum)\n",
        "\n",
        "  # Calculando a taxa\n",
        "  taxa_mortalidade.append(mortes_sum/confirmados_sum)"
      ],
      "metadata": {
        "id": "jNQjmPmxiowY"
      },
      "execution_count": 10,
      "outputs": []
    },
    {
      "cell_type": "markdown",
      "source": [
        "####Obtendo aumentos diários e médias móveis"
      ],
      "metadata": {
        "id": "uMsZl-bImdbq"
      }
    },
    {
      "cell_type": "code",
      "source": [
        "def aumento_diario(data):\n",
        "  d = []\n",
        "  for i in range(len(data)):\n",
        "    if i == 0:\n",
        "      d.append(data[0])\n",
        "    else:\n",
        "      d.append(data[i]-data[i-1])\n",
        "  return d\n",
        "\n",
        "def media_movel(data, tam_janela):\n",
        "  media_movel = []\n",
        "  for i in range(len(data)):\n",
        "    if i + tam_janela < len(data):\n",
        "      media_movel.append(np.mean(data[i:i+tam_janela]))\n",
        "    else:\n",
        "      media_movel.append(np.mean(data[i:len(data)]))\n",
        "  return media_movel\n",
        "\n",
        "# tamanho da janela\n",
        "janela = 7\n",
        "\n",
        "# casos confirmados\n",
        "mundo_aumento_diario = aumento_diario(mundo_casos)\n",
        "mundo_media_confirmado = media_movel(mundo_casos, janela)\n",
        "mundo_aumento_medio_diario = media_movel(mundo_aumento_diario, janela)\n",
        "\n",
        "# mortes\n",
        "mundo_mortes_diario = aumento_diario(total_mortes)\n",
        "mundo_media_morte = media_movel(total_mortes, janela)\n",
        "mundo_media_morte_diaria = media_movel(mundo_mortes_diario, janela)\n"
      ],
      "metadata": {
        "id": "Y_0z2WU2mjtq"
      },
      "execution_count": 11,
      "outputs": []
    },
    {
      "cell_type": "markdown",
      "source": [
        "####Criando uma matriz com as datas desde o inicio da contagem da pandemia (22/01/2020)"
      ],
      "metadata": {
        "id": "EkG-vXL5Gntn"
      }
    },
    {
      "cell_type": "code",
      "source": [
        "# dia que começou as contagens 22/01/2020\n",
        "dias_desde_1_22 = np.array([i for i in range(len(ck))]).reshape(-1,1)\n",
        "mundo_casos = np.array(mundo_casos).reshape(-1,1)\n",
        "total_mortes = np.array(total_mortes).reshape(-1,1)"
      ],
      "metadata": {
        "id": "2Ivrzs1fyXkj"
      },
      "execution_count": 12,
      "outputs": []
    },
    {
      "cell_type": "code",
      "source": [
        "dias_no_futuro = 10\n",
        "previsao_futuro = np.array([i for i in range(len(ck)+dias_no_futuro)]).reshape(-1,1)\n",
        "datas_ajustada = previsao_futuro[:-10]"
      ],
      "metadata": {
        "id": "NzBJ5KMGF2hh"
      },
      "execution_count": 13,
      "outputs": []
    },
    {
      "cell_type": "markdown",
      "source": [
        "####Convertendo inteiro em datetime para melhor visualização"
      ],
      "metadata": {
        "id": "mB1iRS4bGVSJ"
      }
    },
    {
      "cell_type": "code",
      "source": [
        "start = '1/22/2020'\n",
        "start_data = datetime.datetime.strptime(start, '%m/%d/%Y')\n",
        "dias_previsao_futuro = []\n",
        "for i in range(len(previsao_futuro)):\n",
        "  dias_previsao_futuro.append((start_data + datetime.timedelta(days=i)).strftime('%m/%d/%Y'))"
      ],
      "metadata": {
        "id": "1fnCYTWFGaa6"
      },
      "execution_count": 14,
      "outputs": []
    },
    {
      "cell_type": "markdown",
      "source": [
        "##Treinamento de máquina"
      ],
      "metadata": {
        "id": "M7YObeN_O8Qa"
      }
    },
    {
      "cell_type": "markdown",
      "source": [
        "####Importando as Bibliotecas do sklearn"
      ],
      "metadata": {
        "id": "YT8aZhO6PEkB"
      }
    },
    {
      "cell_type": "code",
      "source": [
        "from sklearn.preprocessing import MinMaxScaler, Normalizer, PolynomialFeatures\n",
        "from sklearn.ensemble import RandomForestRegressor\n",
        "from sklearn.neural_network import MLPRegressor\n",
        "from sklearn.linear_model import LinearRegression\n",
        "from sklearn.svm import SVR\n",
        "from sklearn.metrics import mean_squared_error, mean_absolute_error, r2_score, accuracy_score\n",
        "from sklearn.model_selection import RandomizedSearchCV, train_test_split, GridSearchCV"
      ],
      "metadata": {
        "id": "kuxmF3tkPW_x"
      },
      "execution_count": 41,
      "outputs": []
    },
    {
      "cell_type": "markdown",
      "source": [
        "####Utilizando o train_test_split para gerar as variaveis de treinamento e teste"
      ],
      "metadata": {
        "id": "qzLHYsn-ScY1"
      }
    },
    {
      "cell_type": "markdown",
      "source": [
        "Calculando a diferença de dias entre duas datas para tirar do modelo de treinamento\n",
        "\n",
        "Tirando todos os dias até 01 de dezembro de 2022"
      ],
      "metadata": {
        "id": "uoVB1ncFIeSK"
      }
    },
    {
      "cell_type": "code",
      "source": [
        "data1 = datetime.datetime(2020,1,22)\n",
        "data2 =  datetime.datetime(2022,12,1)\n",
        "\n",
        "diferenca = data2 - data1\n",
        "dias = diferenca.days\n",
        "print(\"Numero de dias pulados: \" + str(dias))"
      ],
      "metadata": {
        "colab": {
          "base_uri": "https://localhost:8080/"
        },
        "id": "_bOqyZvVMAVG",
        "outputId": "2170aadf-035e-4c86-9e7c-39ebd6767f36"
      },
      "execution_count": 31,
      "outputs": [
        {
          "output_type": "stream",
          "name": "stdout",
          "text": [
            "Numero de dias pulados: 1044\n"
          ]
        }
      ]
    },
    {
      "cell_type": "code",
      "source": [
        "# pulando_dias = 922\n",
        "pulando_dias = int(dias)\n",
        "X_treino_confirmado, X_teste_confirmado, y_treino_confirmado, y_teste_confirmado = train_test_split(dias_desde_1_22[pulando_dias:], mundo_casos[pulando_dias:], test_size=0.07, shuffle=False)"
      ],
      "metadata": {
        "id": "aEe1Z6twIn46"
      },
      "execution_count": 32,
      "outputs": []
    },
    {
      "cell_type": "markdown",
      "source": [
        "###Modelos de regressão"
      ],
      "metadata": {
        "id": "jomWaEo1Swj0"
      }
    },
    {
      "cell_type": "markdown",
      "source": [
        "####SVR (Support Vector Regression)"
      ],
      "metadata": {
        "id": "dD5ITcmZUiHq"
      }
    },
    {
      "cell_type": "markdown",
      "source": [
        "Encontrando os melhores parametros para gerar o modelo "
      ],
      "metadata": {
        "id": "7EYYz_fzKT-F"
      }
    },
    {
      "cell_type": "code",
      "source": [
        "c = [0.01, 0.1, 1]\n",
        "gamma = [0.01, 0.1, 1]\n",
        "epsilon = [0.01, 0.1, 1]\n",
        "shrinking = [True, False]\n",
        "\n",
        "svm_grid = {'C': c, 'gamma' : gamma, 'epsilon': epsilon, 'shrinking': shrinking}\n",
        "\n",
        "svm = SVR(kernel='poly', degree=3)\n",
        "svm_search = RandomizedSearchCV(svm, svm_grid, scoring='neg_mean_squared_error', cv=3, return_train_score=True, n_jobs=-1, n_iter=30, verbose=1)\n",
        "svm_search.fit(X_treino_confirmado, y_treino_confirmado)\n",
        "\n",
        "svm_search.best_params_"
      ],
      "metadata": {
        "colab": {
          "base_uri": "https://localhost:8080/"
        },
        "id": "L3viBxIZS5Rs",
        "outputId": "8c034671-d072-4270-b925-300713e79398"
      },
      "execution_count": null,
      "outputs": [
        {
          "output_type": "stream",
          "name": "stdout",
          "text": [
            "Fitting 3 folds for each of 30 candidates, totalling 90 fits\n"
          ]
        }
      ]
    },
    {
      "cell_type": "markdown",
      "source": [
        "Apenas executando com os parametros já selecionados"
      ],
      "metadata": {
        "id": "vo1mq4NIH2tf"
      }
    },
    {
      "cell_type": "code",
      "source": [
        "svm_confirmado = SVR(shrinking=True, kernel='poly', epsilon=1, degree=3, C=0.1)\n",
        "svm_confirmado.fit(X_treino_confirmado, y_treino_confirmado)\n",
        "svm_pred = svm_confirmado.predict(previsao_futuro)"
      ],
      "metadata": {
        "id": "PGKZi3CFHTDo"
      },
      "execution_count": null,
      "outputs": []
    },
    {
      "cell_type": "code",
      "source": [
        "svm_test_pred = svm_confirmado.predict(X_teste_confirmado)\n",
        "\n",
        "plt.plot(y_teste_confirmado)\n",
        "plt.plot(svm_test_pred)\n",
        "plt.legend(['Dados Teste', 'Previsão SVM'])\n",
        "print('Erro médio absoluto: ', mean_absolute_error(svm_test_pred, y_teste_confirmado))\n",
        "print('Erro médio quadrado: ', mean_squared_error(svm_test_pred, y_teste_confirmado))\n",
        "print('r2: ', r2_score(svm_test_pred, y_teste_confirmado))"
      ],
      "metadata": {
        "colab": {
          "base_uri": "https://localhost:8080/",
          "height": 346
        },
        "id": "BtL49nWlIvts",
        "outputId": "5cfee1ef-2fda-4daf-95be-f814fd030c9c"
      },
      "execution_count": null,
      "outputs": [
        {
          "output_type": "stream",
          "name": "stdout",
          "text": [
            "Erro médio absoluto:  359186.0253644387\n",
            "Erro médio quadrado:  188109484510.29044\n",
            "r2:  0.15889648431206782\n"
          ]
        },
        {
          "output_type": "display_data",
          "data": {
            "text/plain": [
              "<Figure size 432x288 with 1 Axes>"
            ],
            "image/png": "[encoded data removed]"
          },
          "metadata": {
            "image/png": {
              "width": 420,
              "height": 277
            },
            "needs_background": "light"
          }
        }
      ]
    },
    {
      "cell_type": "markdown",
      "source": [
        "####Random Forest Regressor"
      ],
      "metadata": {
        "id": "RhbpACskKo89"
      }
    },
    {
      "cell_type": "code",
      "source": [
        "metricas = [\n",
        "  'r2',\n",
        "  'neg_mean_absolute_error',\n",
        "  'neg_mean_squared_error',\n",
        "  'neg_mean_absolute_percentage_error',\n",
        "  'max_error'\n",
        "]"
      ],
      "metadata": {
        "id": "h-oWnaOkOePl"
      },
      "execution_count": null,
      "outputs": []
    },
    {
      "cell_type": "markdown",
      "source": [
        "Buscando os melhores hiperparâmetros de RandomForest para os dados de treino"
      ],
      "metadata": {
        "id": "xrweonDoLBki"
      }
    },
    {
      "cell_type": "code",
      "source": [
        "parametros = {'n_estimators': [100, 200, 300, 400, 500], 'max_depth': [4, 6, 8]}\n",
        "\n",
        "modelo = RandomForestRegressor(random_state=42)\n",
        "\n",
        "grid_search = GridSearchCV(estimator=modelo, param_grid=parametros, cv=5, n_jobs=-1)\n",
        "\n",
        "grid_search.fit(X_treino_confirmado, y_treino_confirmado)\n",
        "\n",
        "melhor_modelo = grid_search.best_estimator_\n",
        "\n",
        "melhor_modelo"
      ],
      "metadata": {
        "colab": {
          "base_uri": "https://localhost:8080/"
        },
        "id": "tB0h_L_C2abm",
        "outputId": "f3abcb52-7870-4ada-c8b1-a01fe7aec7c1"
      },
      "execution_count": 51,
      "outputs": [
        {
          "output_type": "execute_result",
          "data": {
            "text/plain": [
              "RandomForestRegressor(max_depth=6, n_estimators=300, random_state=42)"
            ]
          },
          "metadata": {},
          "execution_count": 51
        }
      ]
    },
    {
      "cell_type": "code",
      "source": [
        "# randomForest_confirmado = RandomForestRegressor()  # Para teste\n",
        "\n",
        "randomForest_confirmado = melhor_modelo\n",
        "randomForest_confirmado.fit(X_treino_confirmado, y_treino_confirmado)\n",
        "random_prev = randomForest_confirmado.predict(previsao_futuro)\n",
        "\n",
        "random_test_prev = randomForest_confirmado.predict(X_teste_confirmado)\n",
        "\n",
        "plt.plot(y_teste_confirmado)\n",
        "plt.plot(random_test_prev)\n",
        "plt.legend(['Dados Teste', 'Previsão RandomForest'])\n",
        "print('Erro médio absoluto: ', mean_absolute_error(random_test_prev, y_teste_confirmado))\n",
        "print('Erro médio quadrado: ', mean_squared_error(random_test_prev, y_teste_confirmado))\n",
        "print('r2: ', r2_score(random_test_prev, y_teste_confirmado))"
      ],
      "metadata": {
        "colab": {
          "base_uri": "https://localhost:8080/",
          "height": 346
        },
        "id": "uiJmB0miLKN3",
        "outputId": "53568ff7-9208-4085-b2f9-30b5ebb12dfb"
      },
      "execution_count": 53,
      "outputs": [
        {
          "output_type": "stream",
          "name": "stdout",
          "text": [
            "Erro médio absoluto:  930257.9333332777\n",
            "Erro médio quadrado:  952840886729.501\n",
            "r2:  0.0\n"
          ]
        },
        {
          "output_type": "display_data",
          "data": {
            "text/plain": [
              "<Figure size 432x288 with 1 Axes>"
            ],
            "image/png": "[encoded data removed]"
          },
          "metadata": {
            "image/png": {
              "width": 419,
              "height": 277
            },
            "needs_background": "light"
          }
        }
      ]
    },
    {
      "cell_type": "markdown",
      "source": [
        "####Regressão Linear"
      ],
      "metadata": {
        "id": "32_eR7PSsj5K"
      }
    },
    {
      "cell_type": "code",
      "source": [
        "modelo_linear = LinearRegression(normalize=True, fit_intercept=False)\n",
        "modelo_linear.fit(X_treino_confirmado, y_treino_confirmado)\n",
        "pred_teste_linear = modelo_linear.predict(X_teste_confirmado)\n",
        "\n",
        "pred_linear = modelo_linear.predict(previsao_futuro)\n",
        "\n",
        "print('Erro médio absoluto: ', mean_absolute_error(pred_teste_linear, y_teste_confirmado))\n",
        "print('Erro médio quadrado: ', mean_squared_error(pred_teste_linear, y_teste_confirmado))\n",
        "print('r2: ', r2_score(pred_teste_linear, y_teste_confirmado))"
      ],
      "metadata": {
        "colab": {
          "base_uri": "https://localhost:8080/"
        },
        "id": "t8mHVG6FpHsU",
        "outputId": "c7dd59f0-5363-4256-8381-413d70302061"
      },
      "execution_count": 28,
      "outputs": [
        {
          "output_type": "stream",
          "name": "stdout",
          "text": [
            "Erro médio absoluto:  1389471.9693733056\n",
            "Erro médio quadrado:  1974673049820.6492\n",
            "r2:  -6.807510208865403\n"
          ]
        }
      ]
    },
    {
      "cell_type": "code",
      "source": [
        "print(modelo_linear.coef_)"
      ],
      "metadata": {
        "colab": {
          "base_uri": "https://localhost:8080/"
        },
        "id": "cetiJHVbuo1a",
        "outputId": "0bc659ae-c100-4f8d-fcd6-8250e0592a22"
      },
      "execution_count": 29,
      "outputs": [
        {
          "output_type": "stream",
          "name": "stdout",
          "text": [
            "[[615937.92927384]]\n"
          ]
        }
      ]
    },
    {
      "cell_type": "code",
      "source": [
        "plt.plot(y_teste_confirmado)\n",
        "plt.plot(pred_teste_linear)\n",
        "plt.legend(['Dados testes', 'Predição Regressão Linear'])"
      ],
      "metadata": {
        "colab": {
          "base_uri": "https://localhost:8080/",
          "height": 311
        },
        "id": "JTm5t5OIuwg6",
        "outputId": "58b4a4fa-a843-4e7d-ae18-6d9795c8b8bb"
      },
      "execution_count": 30,
      "outputs": [
        {
          "output_type": "execute_result",
          "data": {
            "text/plain": [
              "<matplotlib.legend.Legend at 0x7f9c9490d610>"
            ]
          },
          "metadata": {},
          "execution_count": 30
        },
        {
          "output_type": "display_data",
          "data": {
            "text/plain": [
              "<Figure size 432x288 with 1 Axes>"
            ],
            "image/png": "[encoded data removed]"
          },
          "metadata": {
            "image/png": {
              "width": 409,
              "height": 277
            },
            "needs_background": "light"
          }
        }
      ]
    },
    {
      "cell_type": "markdown",
      "source": [
        "####Transformando os dados para a Regressão Polinomial e a Regressão polinomial de aresta Bayesiana"
      ],
      "metadata": {
        "id": "4fRrA6o7dbX2"
      }
    },
    {
      "cell_type": "code",
      "source": [
        "poly = PolynomialFeatures(degree=3)\n",
        "poly_X_treino_confirmado = poly.fit_transform(X_treino_confirmado)\n",
        "poly_X_teste_confirmado = poly.fit_transform(X_teste_confirmado)\n",
        "poly_previsao_futuro = poly.fit_transform(previsao_futuro)\n",
        "\n",
        "bayesian_poly = PolynomialFeatures(degree=3)\n",
        "bayesian_poly_X_treino_confirmado = bayesian_poly.fit_transform(X_treino_confirmado)\n",
        "bayesian_poly_X_teste_confirmado = bayesian_poly.fit_transform(X_teste_confirmado)\n",
        "bayesian_poly_previsao_futuro = bayesian_poly.fit_transform(previsao_futuro)"
      ],
      "metadata": {
        "id": "6Ky_7npvbgbf"
      },
      "execution_count": 20,
      "outputs": []
    },
    {
      "cell_type": "markdown",
      "source": [
        "####Regressão Polinomial"
      ],
      "metadata": {
        "id": "--I1oVO0axLj"
      }
    },
    {
      "cell_type": "code",
      "source": [
        "# from sklearn import linear_model\n",
        "modelo_polinomial = LinearRegression(normalize=True, fit_intercept=False)\n",
        "modelo_polinomial.fit(poly_X_treino_confirmado, y_treino_confirmado)\n",
        "pred_teste_polinomial = modelo_polinomial.predict(poly_X_teste_confirmado)\n",
        "pred_polinomial = modelo_polinomial.predict(poly_previsao_futuro)\n",
        "\n",
        "print('Erro médio absoluto: ', mean_absolute_error(pred_teste_polinomial, y_teste_confirmado))\n",
        "print('Erro médio quadrado: ', mean_squared_error(pred_teste_polinomial, y_teste_confirmado))\n",
        "print('r2: ', r2_score(pred_teste_polinomial, y_teste_confirmado))"
      ],
      "metadata": {
        "colab": {
          "base_uri": "https://localhost:8080/"
        },
        "id": "dlwg36GQa9il",
        "outputId": "295e377b-94e3-4b77-a5e8-a419d49b4591"
      },
      "execution_count": 24,
      "outputs": [
        {
          "output_type": "stream",
          "name": "stdout",
          "text": [
            "Erro médio absoluto:  145445.88997395834\n",
            "Erro médio quadrado:  27484390712.236744\n",
            "r2:  0.7976543644256645\n"
          ]
        }
      ]
    },
    {
      "cell_type": "code",
      "source": [
        "print(modelo_polinomial.coef_)"
      ],
      "metadata": {
        "colab": {
          "base_uri": "https://localhost:8080/"
        },
        "id": "zx2PsPTMhS0D",
        "outputId": "44b82d37-5054-4785-8b88-5511c47b9ee9"
      },
      "execution_count": 25,
      "outputs": [
        {
          "output_type": "stream",
          "name": "stdout",
          "text": [
            "[[ 1.94224738e+11 -5.49792852e+08  5.19959087e+05 -1.63740448e+02]]\n"
          ]
        }
      ]
    },
    {
      "cell_type": "code",
      "source": [
        "plt.plot(y_teste_confirmado)\n",
        "plt.plot(pred_teste_polinomial)\n",
        "plt.legend(['Dados testes', 'Predição Regressão Polinomial'])"
      ],
      "metadata": {
        "colab": {
          "base_uri": "https://localhost:8080/",
          "height": 311
        },
        "id": "wFzFSCfwhcEF",
        "outputId": "40f5c878-cb5c-4816-d92e-23ef560da2a8"
      },
      "execution_count": 26,
      "outputs": [
        {
          "output_type": "execute_result",
          "data": {
            "text/plain": [
              "<matplotlib.legend.Legend at 0x7f9c949ea6a0>"
            ]
          },
          "metadata": {},
          "execution_count": 26
        },
        {
          "output_type": "display_data",
          "data": {
            "text/plain": [
              "<Figure size 432x288 with 1 Axes>"
            ],
            "image/png": "[encoded data removed]"
          },
          "metadata": {
            "image/png": {
              "width": 409,
              "height": 277
            },
            "needs_background": "light"
          }
        }
      ]
    },
    {
      "cell_type": "markdown",
      "source": [
        "#**Código Antigo**"
      ],
      "metadata": {
        "id": "HxTcSc7xyFPt"
      }
    },
    {
      "cell_type": "markdown",
      "source": [
        "###Exibindo os dados na série"
      ],
      "metadata": {
        "id": "NvtK_C2A3L2F"
      }
    },
    {
      "cell_type": "markdown",
      "source": [
        "Indexs, numero de linhas e colunas no dataframe e o tipo de dados."
      ],
      "metadata": {
        "id": "n3NA5-nVCrg8"
      }
    },
    {
      "cell_type": "markdown",
      "source": [],
      "metadata": {
        "id": "6RIBc2dCJ5Oc"
      }
    },
    {
      "cell_type": "code",
      "source": [
        "s_brazil"
      ],
      "metadata": {
        "colab": {
          "base_uri": "https://localhost:8080/"
        },
        "id": "GBBL74uI3K0m",
        "outputId": "bae93e16-4257-4b89-9906-ac8a0b2f6b9a"
      },
      "execution_count": null,
      "outputs": [
        {
          "output_type": "execute_result",
          "data": {
            "text/plain": [
              "1/22/20            0\n",
              "1/23/20            0\n",
              "1/24/20            0\n",
              "1/25/20            0\n",
              "1/26/20            0\n",
              "              ...   \n",
              "12/26/22    36190389\n",
              "12/27/22    36226287\n",
              "12/28/22    36264721\n",
              "12/29/22    36302415\n",
              "12/30/22    36331281\n",
              "Name: Brazil, Length: 1074, dtype: int64"
            ]
          },
          "metadata": {},
          "execution_count": 12
        }
      ]
    },
    {
      "cell_type": "markdown",
      "source": [
        "Separando o indexes e os valores em variaveis separas para o proximo passo"
      ],
      "metadata": {
        "id": "MkJPJ_D8Kvs5"
      }
    },
    {
      "cell_type": "code",
      "source": [
        "# extraindo as datas e o numero de casos\n",
        "x = df_country.loc['Brazil'].index # indices (datas)\n",
        "y = df_country.loc['Brazil'].values # valores (numero de casos por data)\n",
        "print(x)\n",
        "print()\n",
        "print(y)\n",
        "\n",
        "print(x[0][0])"
      ],
      "metadata": {
        "colab": {
          "base_uri": "https://localhost:8080/"
        },
        "id": "EU7nBEX8C9-t",
        "outputId": "423bab2c-60a2-4030-d0b8-181ff5b11af4"
      },
      "execution_count": null,
      "outputs": [
        {
          "output_type": "stream",
          "name": "stdout",
          "text": [
            "Index(['1/22/20', '1/23/20', '1/24/20', '1/25/20', '1/26/20', '1/27/20',\n",
            "       '1/28/20', '1/29/20', '1/30/20', '1/31/20',\n",
            "       ...\n",
            "       '12/21/22', '12/22/22', '12/23/22', '12/24/22', '12/25/22', '12/26/22',\n",
            "       '12/27/22', '12/28/22', '12/29/22', '12/30/22'],\n",
            "      dtype='object', length=1074)\n",
            "\n",
            "[       0        0        0 ... 36264721 36302415 36331281]\n",
            "1\n"
          ]
        }
      ]
    },
    {
      "cell_type": "code",
      "source": [],
      "metadata": {
        "id": "nDkq-8R8UnGg"
      },
      "execution_count": null,
      "outputs": []
    },
    {
      "cell_type": "markdown",
      "source": [
        "##Aprendizado de Máquina"
      ],
      "metadata": {
        "id": "EqHvJisbIJgl"
      }
    },
    {
      "cell_type": "markdown",
      "source": [
        "###Gerando as importações"
      ],
      "metadata": {
        "id": "8Wbh7E9uIbze"
      }
    },
    {
      "cell_type": "markdown",
      "source": [
        "####Validação Cruzada"
      ],
      "metadata": {
        "id": "WQVSuE5tIvmV"
      }
    },
    {
      "cell_type": "code",
      "source": [
        "from sklearn.model_selection import GridSearchCV"
      ],
      "metadata": {
        "id": "bJDlR2DXIQLX"
      },
      "execution_count": null,
      "outputs": []
    },
    {
      "cell_type": "markdown",
      "source": [
        "####Pré-processamento"
      ],
      "metadata": {
        "id": "cXr2ADTGI0c8"
      }
    },
    {
      "cell_type": "code",
      "source": [
        "from sklearn.preprocessing import MinMaxScaler, Normalizer, RobustScaler\n",
        "from sklearn.decomposition import PCA\n",
        "from sklearn.manifold import SpectralEmbedding, LocallyLinearEmbedding, TSNE"
      ],
      "metadata": {
        "id": "l8D2fibVI3av"
      },
      "execution_count": null,
      "outputs": []
    },
    {
      "cell_type": "markdown",
      "source": [
        "####Regressores"
      ],
      "metadata": {
        "id": "LrBUfiDEI58s"
      }
    },
    {
      "cell_type": "code",
      "source": [
        "from sklearn.linear_model import LinearRegression, Ridge, SGDRegressor\n",
        "from sklearn.ensemble import RandomForestRegressor\n",
        "from sklearn.kernel_ridge import KernelRidge\n",
        "from sklearn.neighbors import KNeighborsRegressor\n",
        "from sklearn.neural_network import MLPRegressor\n",
        "from sklearn.svm import SVR\n",
        "from sklearn.tree import DecisionTreeRegressor"
      ],
      "metadata": {
        "id": "zsjVfKNwI7yF"
      },
      "execution_count": null,
      "outputs": []
    },
    {
      "cell_type": "markdown",
      "source": [
        "####Métricas"
      ],
      "metadata": {
        "id": "9d6G8ZNrT6-P"
      }
    },
    {
      "cell_type": "code",
      "source": [
        "from sklearn import metrics"
      ],
      "metadata": {
        "id": "fcdURJf-T9jO"
      },
      "execution_count": null,
      "outputs": []
    },
    {
      "cell_type": "markdown",
      "source": [
        "###Execução"
      ],
      "metadata": {
        "id": "RJiBc6bKJA1F"
      }
    },
    {
      "cell_type": "markdown",
      "source": [
        "####Primeiro modelo"
      ],
      "metadata": {
        "id": "TshZc3b1SzpS"
      }
    },
    {
      "cell_type": "markdown",
      "source": [
        "Gerando o conjunto de teste e treino"
      ],
      "metadata": {
        "id": "E8vMpXotPK1R"
      }
    },
    {
      "cell_type": "code",
      "source": [
        "from sklearn.model_selection import train_test_split\n",
        "\n",
        "x_treino, x_teste, y_treino, y_teste = train_test_split(x, y, test_size=0.3, random_state=10)\n",
        "\n",
        "depth = 4\n",
        "state = 10\n"
      ],
      "metadata": {
        "id": "Q5pUA2JBN-zV"
      },
      "execution_count": null,
      "outputs": []
    },
    {
      "cell_type": "code",
      "source": [
        "modelo1 = RandomForestRegressor(random_state=42, n_estimators=100)\n",
        "modelo1.fit(x_treino, y_treino)\n",
        "pred1 = modelo1.predict(x_teste)\n",
        "\n",
        "modelo2 = LinearRegression()\n",
        "modelo2.fit(x_treino, y_treino)\n",
        "modelo2pred = modelo2.predict(x_teste)\n",
        "\n",
        "\n",
        "\n",
        "print(\"Acurácia Random Forest:\", metrics.accuracy_score(y_teste, pred1))\n",
        "print(\"Acurácia Regressão Linear:\", metrics.accuracy_score(y_teste, modelo2pred))"
      ],
      "metadata": {
        "colab": {
          "base_uri": "https://localhost:8080/",
          "height": 380
        },
        "id": "cGAjw5e7SpW5",
        "outputId": "09406ae2-d4cc-4e2e-9786-2e66ceaa8551"
      },
      "execution_count": null,
      "outputs": [
        {
          "output_type": "error",
          "ename": "ValueError",
          "evalue": "ignored",
          "traceback": [
            "\u001b[0;31m---------------------------------------------------------------------------\u001b[0m",
            "\u001b[0;31mValueError\u001b[0m                                Traceback (most recent call last)",
            "\u001b[0;32m<ipython-input-23-22b2e0f32f12>\u001b[0m in \u001b[0;36m<module>\u001b[0;34m\u001b[0m\n\u001b[1;32m      1\u001b[0m \u001b[0mmodelo1\u001b[0m \u001b[0;34m=\u001b[0m \u001b[0mRandomForestRegressor\u001b[0m\u001b[0;34m(\u001b[0m\u001b[0mrandom_state\u001b[0m\u001b[0;34m=\u001b[0m\u001b[0;36m42\u001b[0m\u001b[0;34m,\u001b[0m \u001b[0mn_estimators\u001b[0m\u001b[0;34m=\u001b[0m\u001b[0;36m100\u001b[0m\u001b[0;34m)\u001b[0m\u001b[0;34m\u001b[0m\u001b[0;34m\u001b[0m\u001b[0m\n\u001b[0;32m----> 2\u001b[0;31m \u001b[0mmodelo1\u001b[0m\u001b[0;34m.\u001b[0m\u001b[0mfit\u001b[0m\u001b[0;34m(\u001b[0m\u001b[0mx_treino\u001b[0m\u001b[0;34m,\u001b[0m \u001b[0my_treino\u001b[0m\u001b[0;34m)\u001b[0m\u001b[0;34m\u001b[0m\u001b[0;34m\u001b[0m\u001b[0m\n\u001b[0m\u001b[1;32m      3\u001b[0m \u001b[0mpred1\u001b[0m \u001b[0;34m=\u001b[0m \u001b[0mmodelo1\u001b[0m\u001b[0;34m.\u001b[0m\u001b[0mpredict\u001b[0m\u001b[0;34m(\u001b[0m\u001b[0mx_teste\u001b[0m\u001b[0;34m)\u001b[0m\u001b[0;34m\u001b[0m\u001b[0;34m\u001b[0m\u001b[0m\n\u001b[1;32m      4\u001b[0m \u001b[0;34m\u001b[0m\u001b[0m\n\u001b[1;32m      5\u001b[0m \u001b[0mmodelo2\u001b[0m \u001b[0;34m=\u001b[0m \u001b[0mLinearRegression\u001b[0m\u001b[0;34m(\u001b[0m\u001b[0;34m)\u001b[0m\u001b[0;34m\u001b[0m\u001b[0;34m\u001b[0m\u001b[0m\n",
            "\u001b[0;32m/usr/local/lib/python3.8/dist-packages/sklearn/ensemble/_forest.py\u001b[0m in \u001b[0;36mfit\u001b[0;34m(self, X, y, sample_weight)\u001b[0m\n\u001b[1;32m    325\u001b[0m         \u001b[0;32mif\u001b[0m \u001b[0missparse\u001b[0m\u001b[0;34m(\u001b[0m\u001b[0my\u001b[0m\u001b[0;34m)\u001b[0m\u001b[0;34m:\u001b[0m\u001b[0;34m\u001b[0m\u001b[0;34m\u001b[0m\u001b[0m\n\u001b[1;32m    326\u001b[0m             \u001b[0;32mraise\u001b[0m \u001b[0mValueError\u001b[0m\u001b[0;34m(\u001b[0m\u001b[0;34m\"sparse multilabel-indicator for y is not supported.\"\u001b[0m\u001b[0;34m)\u001b[0m\u001b[0;34m\u001b[0m\u001b[0;34m\u001b[0m\u001b[0m\n\u001b[0;32m--> 327\u001b[0;31m         X, y = self._validate_data(\n\u001b[0m\u001b[1;32m    328\u001b[0m             \u001b[0mX\u001b[0m\u001b[0;34m,\u001b[0m \u001b[0my\u001b[0m\u001b[0;34m,\u001b[0m \u001b[0mmulti_output\u001b[0m\u001b[0;34m=\u001b[0m\u001b[0;32mTrue\u001b[0m\u001b[0;34m,\u001b[0m \u001b[0maccept_sparse\u001b[0m\u001b[0;34m=\u001b[0m\u001b[0;34m\"csc\"\u001b[0m\u001b[0;34m,\u001b[0m \u001b[0mdtype\u001b[0m\u001b[0;34m=\u001b[0m\u001b[0mDTYPE\u001b[0m\u001b[0;34m\u001b[0m\u001b[0;34m\u001b[0m\u001b[0m\n\u001b[1;32m    329\u001b[0m         )\n",
            "\u001b[0;32m/usr/local/lib/python3.8/dist-packages/sklearn/base.py\u001b[0m in \u001b[0;36m_validate_data\u001b[0;34m(self, X, y, reset, validate_separately, **check_params)\u001b[0m\n\u001b[1;32m    579\u001b[0m                 \u001b[0my\u001b[0m \u001b[0;34m=\u001b[0m \u001b[0mcheck_array\u001b[0m\u001b[0;34m(\u001b[0m\u001b[0my\u001b[0m\u001b[0;34m,\u001b[0m \u001b[0;34m**\u001b[0m\u001b[0mcheck_y_params\u001b[0m\u001b[0;34m)\u001b[0m\u001b[0;34m\u001b[0m\u001b[0;34m\u001b[0m\u001b[0m\n\u001b[1;32m    580\u001b[0m             \u001b[0;32melse\u001b[0m\u001b[0;34m:\u001b[0m\u001b[0;34m\u001b[0m\u001b[0;34m\u001b[0m\u001b[0m\n\u001b[0;32m--> 581\u001b[0;31m                 \u001b[0mX\u001b[0m\u001b[0;34m,\u001b[0m \u001b[0my\u001b[0m \u001b[0;34m=\u001b[0m \u001b[0mcheck_X_y\u001b[0m\u001b[0;34m(\u001b[0m\u001b[0mX\u001b[0m\u001b[0;34m,\u001b[0m \u001b[0my\u001b[0m\u001b[0;34m,\u001b[0m \u001b[0;34m**\u001b[0m\u001b[0mcheck_params\u001b[0m\u001b[0;34m)\u001b[0m\u001b[0;34m\u001b[0m\u001b[0;34m\u001b[0m\u001b[0m\n\u001b[0m\u001b[1;32m    582\u001b[0m             \u001b[0mout\u001b[0m \u001b[0;34m=\u001b[0m \u001b[0mX\u001b[0m\u001b[0;34m,\u001b[0m \u001b[0my\u001b[0m\u001b[0;34m\u001b[0m\u001b[0;34m\u001b[0m\u001b[0m\n\u001b[1;32m    583\u001b[0m \u001b[0;34m\u001b[0m\u001b[0m\n",
            "\u001b[0;32m/usr/local/lib/python3.8/dist-packages/sklearn/utils/validation.py\u001b[0m in \u001b[0;36mcheck_X_y\u001b[0;34m(X, y, accept_sparse, accept_large_sparse, dtype, order, copy, force_all_finite, ensure_2d, allow_nd, multi_output, ensure_min_samples, ensure_min_features, y_numeric, estimator)\u001b[0m\n\u001b[1;32m    962\u001b[0m         \u001b[0;32mraise\u001b[0m \u001b[0mValueError\u001b[0m\u001b[0;34m(\u001b[0m\u001b[0;34m\"y cannot be None\"\u001b[0m\u001b[0;34m)\u001b[0m\u001b[0;34m\u001b[0m\u001b[0;34m\u001b[0m\u001b[0m\n\u001b[1;32m    963\u001b[0m \u001b[0;34m\u001b[0m\u001b[0m\n\u001b[0;32m--> 964\u001b[0;31m     X = check_array(\n\u001b[0m\u001b[1;32m    965\u001b[0m         \u001b[0mX\u001b[0m\u001b[0;34m,\u001b[0m\u001b[0;34m\u001b[0m\u001b[0;34m\u001b[0m\u001b[0m\n\u001b[1;32m    966\u001b[0m         \u001b[0maccept_sparse\u001b[0m\u001b[0;34m=\u001b[0m\u001b[0maccept_sparse\u001b[0m\u001b[0;34m,\u001b[0m\u001b[0;34m\u001b[0m\u001b[0;34m\u001b[0m\u001b[0m\n",
            "\u001b[0;32m/usr/local/lib/python3.8/dist-packages/sklearn/utils/validation.py\u001b[0m in \u001b[0;36mcheck_array\u001b[0;34m(array, accept_sparse, accept_large_sparse, dtype, order, copy, force_all_finite, ensure_2d, allow_nd, ensure_min_samples, ensure_min_features, estimator)\u001b[0m\n\u001b[1;32m    744\u001b[0m                     \u001b[0marray\u001b[0m \u001b[0;34m=\u001b[0m \u001b[0marray\u001b[0m\u001b[0;34m.\u001b[0m\u001b[0mastype\u001b[0m\u001b[0;34m(\u001b[0m\u001b[0mdtype\u001b[0m\u001b[0;34m,\u001b[0m \u001b[0mcasting\u001b[0m\u001b[0;34m=\u001b[0m\u001b[0;34m\"unsafe\"\u001b[0m\u001b[0;34m,\u001b[0m \u001b[0mcopy\u001b[0m\u001b[0;34m=\u001b[0m\u001b[0;32mFalse\u001b[0m\u001b[0;34m)\u001b[0m\u001b[0;34m\u001b[0m\u001b[0;34m\u001b[0m\u001b[0m\n\u001b[1;32m    745\u001b[0m                 \u001b[0;32melse\u001b[0m\u001b[0;34m:\u001b[0m\u001b[0;34m\u001b[0m\u001b[0;34m\u001b[0m\u001b[0m\n\u001b[0;32m--> 746\u001b[0;31m                     \u001b[0marray\u001b[0m \u001b[0;34m=\u001b[0m \u001b[0mnp\u001b[0m\u001b[0;34m.\u001b[0m\u001b[0masarray\u001b[0m\u001b[0;34m(\u001b[0m\u001b[0marray\u001b[0m\u001b[0;34m,\u001b[0m \u001b[0morder\u001b[0m\u001b[0;34m=\u001b[0m\u001b[0morder\u001b[0m\u001b[0;34m,\u001b[0m \u001b[0mdtype\u001b[0m\u001b[0;34m=\u001b[0m\u001b[0mdtype\u001b[0m\u001b[0;34m)\u001b[0m\u001b[0;34m\u001b[0m\u001b[0;34m\u001b[0m\u001b[0m\n\u001b[0m\u001b[1;32m    747\u001b[0m             \u001b[0;32mexcept\u001b[0m \u001b[0mComplexWarning\u001b[0m \u001b[0;32mas\u001b[0m \u001b[0mcomplex_warning\u001b[0m\u001b[0;34m:\u001b[0m\u001b[0;34m\u001b[0m\u001b[0;34m\u001b[0m\u001b[0m\n\u001b[1;32m    748\u001b[0m                 raise ValueError(\n",
            "\u001b[0;32m/usr/local/lib/python3.8/dist-packages/pandas/core/indexes/base.py\u001b[0m in \u001b[0;36m__array__\u001b[0;34m(self, dtype)\u001b[0m\n\u001b[1;32m    802\u001b[0m         \u001b[0mThe\u001b[0m \u001b[0marray\u001b[0m \u001b[0minterface\u001b[0m\u001b[0;34m,\u001b[0m \u001b[0;32mreturn\u001b[0m \u001b[0mmy\u001b[0m \u001b[0mvalues\u001b[0m\u001b[0;34m.\u001b[0m\u001b[0;34m\u001b[0m\u001b[0;34m\u001b[0m\u001b[0m\n\u001b[1;32m    803\u001b[0m         \"\"\"\n\u001b[0;32m--> 804\u001b[0;31m         \u001b[0;32mreturn\u001b[0m \u001b[0mnp\u001b[0m\u001b[0;34m.\u001b[0m\u001b[0masarray\u001b[0m\u001b[0;34m(\u001b[0m\u001b[0mself\u001b[0m\u001b[0;34m.\u001b[0m\u001b[0m_data\u001b[0m\u001b[0;34m,\u001b[0m \u001b[0mdtype\u001b[0m\u001b[0;34m=\u001b[0m\u001b[0mdtype\u001b[0m\u001b[0;34m)\u001b[0m\u001b[0;34m\u001b[0m\u001b[0;34m\u001b[0m\u001b[0m\n\u001b[0m\u001b[1;32m    805\u001b[0m \u001b[0;34m\u001b[0m\u001b[0m\n\u001b[1;32m    806\u001b[0m     \u001b[0;32mdef\u001b[0m \u001b[0m__array_wrap__\u001b[0m\u001b[0;34m(\u001b[0m\u001b[0mself\u001b[0m\u001b[0;34m,\u001b[0m \u001b[0mresult\u001b[0m\u001b[0;34m,\u001b[0m \u001b[0mcontext\u001b[0m\u001b[0;34m=\u001b[0m\u001b[0;32mNone\u001b[0m\u001b[0;34m)\u001b[0m\u001b[0;34m:\u001b[0m\u001b[0;34m\u001b[0m\u001b[0;34m\u001b[0m\u001b[0m\n",
            "\u001b[0;31mValueError\u001b[0m: could not convert string to float: '7/30/20'"
          ]
        }
      ]
    },
    {
      "cell_type": "markdown",
      "source": [
        "####Fazendo a tabela para comparação dos resultados"
      ],
      "metadata": {
        "id": "C8ax_kmAPFrT"
      }
    },
    {
      "cell_type": "code",
      "source": [
        "prePros = [\n",
        "    None,\n",
        "    {'metodo': MinMaxScaler, 'params': {}},\n",
        "    {'metodo': Normalizer, 'params': {}},\n",
        "    {'metodo': RobustScaler, 'params': {}},\n",
        "]\n",
        "\n",
        "tecnicas = [\n",
        "    LinearRegression(),\n",
        "    RandomForestRegressor(random_state=42, n_estimators=100),\n",
        "    MLPRegressor(random_state=42),\n",
        "    SVR(),\n",
        "]"
      ],
      "metadata": {
        "id": "DivqBpw3PJoS"
      },
      "execution_count": null,
      "outputs": []
    }
  ]
}